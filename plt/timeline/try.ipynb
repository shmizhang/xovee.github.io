{
 "cells": [
  {
   "cell_type": "markdown",
   "id": "473df18d-980a-47fd-b0fa-54a07fddae0c",
   "metadata": {},
   "source": [
    "# Scholar Timeline"
   ]
  },
  {
   "cell_type": "markdown",
   "id": "65a3a6a3-789d-40c6-86ab-8b924baba89b",
   "metadata": {
    "tags": []
   },
   "source": [
    "## Import dependencies"
   ]
  },
  {
   "cell_type": "code",
   "execution_count": 20,
   "id": "3fc27535-94dc-42a1-9199-09b73ea3e6e6",
   "metadata": {},
   "outputs": [],
   "source": [
    "import matplotlib.pyplot as plt\n",
    "import csv\n",
    "from scholarly import scholarly"
   ]
  },
  {
   "cell_type": "markdown",
   "id": "7d82fe58-bb5a-49c3-bd29-38a1399f2652",
   "metadata": {},
   "source": [
    "## Load data"
   ]
  },
  {
   "cell_type": "code",
   "execution_count": 70,
   "id": "8e54c4be-992d-443e-892d-a4d41579a22c",
   "metadata": {},
   "outputs": [],
   "source": [
    "my_id = 'ra0qyRQAAAAJ'\n",
    "\n",
    "author = scholarly.search_author_id('ra0qyRQAAAAJ')\n",
    "author.keys()\n",
    "\n",
    "data = scholarly.fill(author, sections=[])"
   ]
  },
  {
   "cell_type": "code",
   "execution_count": 56,
   "id": "565e3f80-fe5d-4453-88b8-351fb3950838",
   "metadata": {},
   "outputs": [
    {
     "ename": "KeyError",
     "evalue": "'publications'",
     "output_type": "error",
     "traceback": [
      "\u001b[0;31m---------------------------------------------------------------------------\u001b[0m",
      "\u001b[0;31mKeyError\u001b[0m                                  Traceback (most recent call last)",
      "Input \u001b[0;32mIn [56]\u001b[0m, in \u001b[0;36m<cell line: 1>\u001b[0;34m()\u001b[0m\n\u001b[0;32m----> 1\u001b[0m \u001b[43mauthor\u001b[49m\u001b[43m[\u001b[49m\u001b[38;5;124;43m'\u001b[39;49m\u001b[38;5;124;43mpublications\u001b[39;49m\u001b[38;5;124;43m'\u001b[39;49m\u001b[43m]\u001b[49m[\u001b[38;5;241m0\u001b[39m]\n",
      "\u001b[0;31mKeyError\u001b[0m: 'publications'"
     ]
    }
   ],
   "source": [
    "author['publications'][0]"
   ]
  },
  {
   "cell_type": "code",
   "execution_count": 59,
   "id": "13ffd78d-6c25-41da-996c-0c4e7d454947",
   "metadata": {},
   "outputs": [
    {
     "data": {
      "text/plain": [
       "{'container_type': 'Author',\n",
       " 'filled': ['basics',\n",
       "  'indices',\n",
       "  'counts',\n",
       "  'coauthors',\n",
       "  'publications',\n",
       "  'public_access'],\n",
       " 'scholar_id': 'ra0qyRQAAAAJ',\n",
       " 'source': <AuthorSource.AUTHOR_PROFILE_PAGE: 'AUTHOR_PROFILE_PAGE'>,\n",
       " 'name': 'Xovee Xu',\n",
       " 'url_picture': 'https://scholar.googleusercontent.com/citations?view_op=view_photo&user=ra0qyRQAAAAJ&citpid=5',\n",
       " 'affiliation': 'UESTC, PhD student in computer science, 徐增',\n",
       " 'organization': 9610860646987207346,\n",
       " 'interests': ['social network analysis', 'human-centered data mining'],\n",
       " 'email_domain': '@std.uestc.edu.cn',\n",
       " 'homepage': 'https://xovee.cn/',\n",
       " 'citedby': 70,\n",
       " 'citedby5y': 70,\n",
       " 'hindex': 4,\n",
       " 'hindex5y': 4,\n",
       " 'i10index': 2,\n",
       " 'i10index5y': 2,\n",
       " 'cites_per_year': {2020: 6, 2021: 47, 2022: 17},\n",
       " 'coauthors': [{'container_type': 'Author',\n",
       "   'filled': [],\n",
       "   'scholar_id': 'Ihj2Rw8AAAAJ',\n",
       "   'source': <AuthorSource.CO_AUTHORS_LIST: 'CO_AUTHORS_LIST'>,\n",
       "   'name': 'Fan Zhou',\n",
       "   'affiliation': 'University of Electronic Science and Technology of China'},\n",
       "  {'container_type': 'Author',\n",
       "   'filled': [],\n",
       "   'scholar_id': 'Avus2kcAAAAJ',\n",
       "   'source': <AuthorSource.CO_AUTHORS_LIST: 'CO_AUTHORS_LIST'>,\n",
       "   'name': 'Goce Trajcevski',\n",
       "   'affiliation': 'Dept. of ECpE, Iowa State University'},\n",
       "  {'container_type': 'Author',\n",
       "   'filled': [],\n",
       "   'scholar_id': 'rnpemAoAAAAJ',\n",
       "   'source': <AuthorSource.CO_AUTHORS_LIST: 'CO_AUTHORS_LIST'>,\n",
       "   'name': 'Kunpeng Zhang',\n",
       "   'affiliation': 'University of Maryland'},\n",
       "  {'container_type': 'Author',\n",
       "   'filled': [],\n",
       "   'scholar_id': '-fJXazwAAAAJ',\n",
       "   'source': <AuthorSource.CO_AUTHORS_LIST: 'CO_AUTHORS_LIST'>,\n",
       "   'name': 'Ce Li',\n",
       "   'affiliation': 'MS student in computer science, UESTC'},\n",
       "  {'container_type': 'Author',\n",
       "   'filled': [],\n",
       "   'scholar_id': '5yeMuwMAAAAJ',\n",
       "   'source': <AuthorSource.CO_AUTHORS_LIST: 'CO_AUTHORS_LIST'>,\n",
       "   'name': 'Liu Yu',\n",
       "   'affiliation': 'University of Electronic Science and Technology of China'},\n",
       "  {'container_type': 'Author',\n",
       "   'filled': [],\n",
       "   'scholar_id': 'Mdr0XDkAAAAJ',\n",
       "   'source': <AuthorSource.CO_AUTHORS_LIST: 'CO_AUTHORS_LIST'>,\n",
       "   'name': '钟婷',\n",
       "   'affiliation': 'University of Electronic Science and Technology of China'},\n",
       "  {'container_type': 'Author',\n",
       "   'filled': [],\n",
       "   'scholar_id': '1rlJtUcAAAAJ',\n",
       "   'source': <AuthorSource.CO_AUTHORS_LIST: 'CO_AUTHORS_LIST'>,\n",
       "   'name': 'Haoyang Yu',\n",
       "   'affiliation': 'University of Electronic Science and Technology of China'}],\n",
       " 'publications': [{'container_type': 'Publication',\n",
       "   'source': <PublicationSource.AUTHOR_PUBLICATION_ENTRY: 'AUTHOR_PUBLICATION_ENTRY'>,\n",
       "   'bib': {'title': 'A Survey of Information Cascade Analysis: Models, Predictions, and Recent Advances',\n",
       "    'pub_year': '2021'},\n",
       "   'filled': False,\n",
       "   'author_pub_id': 'ra0qyRQAAAAJ:Tyk-4Ss8FVUC',\n",
       "   'num_citations': 39,\n",
       "   'citedby_url': 'https://scholar.google.com/scholar?oi=bibs&hl=en&cites=175443454897716290',\n",
       "   'cites_id': ['175443454897716290'],\n",
       "   'public_access': True},\n",
       "  {'container_type': 'Publication',\n",
       "   'source': <PublicationSource.AUTHOR_PUBLICATION_ENTRY: 'AUTHOR_PUBLICATION_ENTRY'>,\n",
       "   'bib': {'title': 'Variational Information Diffusion for Probabilistic Cascades Prediction',\n",
       "    'pub_year': '2020'},\n",
       "   'filled': False,\n",
       "   'author_pub_id': 'ra0qyRQAAAAJ:zYLM7Y9cAGgC',\n",
       "   'num_citations': 14,\n",
       "   'citedby_url': 'https://scholar.google.com/scholar?oi=bibs&hl=en&cites=13104411355478032811',\n",
       "   'cites_id': ['13104411355478032811'],\n",
       "   'public_access': True},\n",
       "  {'container_type': 'Publication',\n",
       "   'source': <PublicationSource.AUTHOR_PUBLICATION_ENTRY: 'AUTHOR_PUBLICATION_ENTRY'>,\n",
       "   'bib': {'title': 'A Heterogeneous Dynamical Graph Neural Networks Approach to Quantify Scientific Impact',\n",
       "    'pub_year': '2020'},\n",
       "   'filled': False,\n",
       "   'author_pub_id': 'ra0qyRQAAAAJ:Y0pCki6q_DkC',\n",
       "   'num_citations': 6,\n",
       "   'citedby_url': 'https://scholar.google.com/scholar?oi=bibs&hl=en&cites=16135798307665051462',\n",
       "   'cites_id': ['16135798307665051462'],\n",
       "   'public_access': True},\n",
       "  {'container_type': 'Publication',\n",
       "   'source': <PublicationSource.AUTHOR_PUBLICATION_ENTRY: 'AUTHOR_PUBLICATION_ENTRY'>,\n",
       "   'bib': {'title': 'Continual Information Cascade Learning',\n",
       "    'pub_year': '2020'},\n",
       "   'filled': False,\n",
       "   'author_pub_id': 'ra0qyRQAAAAJ:YsMSGLbcyi4C',\n",
       "   'num_citations': 5,\n",
       "   'citedby_url': 'https://scholar.google.com/scholar?oi=bibs&hl=en&cites=14061981910594817048',\n",
       "   'cites_id': ['14061981910594817048'],\n",
       "   'public_access': True},\n",
       "  {'container_type': 'Publication',\n",
       "   'source': <PublicationSource.AUTHOR_PUBLICATION_ENTRY: 'AUTHOR_PUBLICATION_ENTRY'>,\n",
       "   'bib': {'title': 'Decoupling Representation and Regressor for Long-Tailed Information Cascade Prediction',\n",
       "    'pub_year': '2021'},\n",
       "   'filled': False,\n",
       "   'author_pub_id': 'ra0qyRQAAAAJ:roLk4NBRz8UC',\n",
       "   'num_citations': 2,\n",
       "   'citedby_url': 'https://scholar.google.com/scholar?oi=bibs&hl=en&cites=289088067462906644',\n",
       "   'cites_id': ['289088067462906644']},\n",
       "  {'container_type': 'Publication',\n",
       "   'source': <PublicationSource.AUTHOR_PUBLICATION_ENTRY: 'AUTHOR_PUBLICATION_ENTRY'>,\n",
       "   'bib': {'title': 'Unsupervised User Identity Linkage via Graph Neural Networks',\n",
       "    'pub_year': '2020'},\n",
       "   'filled': False,\n",
       "   'author_pub_id': 'ra0qyRQAAAAJ:eQOLeE2rZwMC',\n",
       "   'num_citations': 2,\n",
       "   'citedby_url': 'https://scholar.google.com/scholar?oi=bibs&hl=en&cites=16612131953676861718',\n",
       "   'cites_id': ['16612131953676861718'],\n",
       "   'public_access': True},\n",
       "  {'container_type': 'Publication',\n",
       "   'source': <PublicationSource.AUTHOR_PUBLICATION_ENTRY: 'AUTHOR_PUBLICATION_ENTRY'>,\n",
       "   'bib': {'title': 'Contrastive Trajectory Learning for Tour Recommendation',\n",
       "    'pub_year': '2022'},\n",
       "   'filled': False,\n",
       "   'author_pub_id': 'ra0qyRQAAAAJ:kNdYIx-mwKoC',\n",
       "   'num_citations': 1,\n",
       "   'citedby_url': 'https://scholar.google.com/scholar?oi=bibs&hl=en&cites=3915260275494525230',\n",
       "   'cites_id': ['3915260275494525230']},\n",
       "  {'container_type': 'Publication',\n",
       "   'source': <PublicationSource.AUTHOR_PUBLICATION_ENTRY: 'AUTHOR_PUBLICATION_ENTRY'>,\n",
       "   'bib': {'title': 'CasFlow: Exploring Hierarchical Structures and Propagation Uncertainty for Cascade Prediction',\n",
       "    'pub_year': '2021'},\n",
       "   'filled': False,\n",
       "   'author_pub_id': 'ra0qyRQAAAAJ:MXK_kJrjxJIC',\n",
       "   'num_citations': 1,\n",
       "   'citedby_url': 'https://scholar.google.com/scholar?oi=bibs&hl=en&cites=7228390105107201425',\n",
       "   'cites_id': ['7228390105107201425']},\n",
       "  {'container_type': 'Publication',\n",
       "   'source': <PublicationSource.AUTHOR_PUBLICATION_ENTRY: 'AUTHOR_PUBLICATION_ENTRY'>,\n",
       "   'bib': {'title': 'Heterogeneous Dynamical Academic Network for Learning Scientific Impact Propagation',\n",
       "    'pub_year': '2022'},\n",
       "   'filled': False,\n",
       "   'author_pub_id': 'ra0qyRQAAAAJ:ULOm3_A8WrAC',\n",
       "   'num_citations': 0},\n",
       "  {'container_type': 'Publication',\n",
       "   'source': <PublicationSource.AUTHOR_PUBLICATION_ENTRY: 'AUTHOR_PUBLICATION_ENTRY'>,\n",
       "   'bib': {'title': 'CCGL: Contrastive Cascade Graph Learning',\n",
       "    'pub_year': '2022'},\n",
       "   'filled': False,\n",
       "   'author_pub_id': 'ra0qyRQAAAAJ:UebtZRa9Y70C',\n",
       "   'num_citations': 0},\n",
       "  {'container_type': 'Publication',\n",
       "   'source': <PublicationSource.AUTHOR_PUBLICATION_ENTRY: 'AUTHOR_PUBLICATION_ENTRY'>,\n",
       "   'bib': {'title': 'HGENA: A Hyperbolic Graph Embedding Approach for Network Alignment',\n",
       "    'pub_year': '2021'},\n",
       "   'filled': False,\n",
       "   'author_pub_id': 'ra0qyRQAAAAJ:_kc_bZDykSQC',\n",
       "   'num_citations': 0},\n",
       "  {'container_type': 'Publication',\n",
       "   'source': <PublicationSource.AUTHOR_PUBLICATION_ENTRY: 'AUTHOR_PUBLICATION_ENTRY'>,\n",
       "   'bib': {'title': 'Vector-Quantized Autoencoder With Copula for Collaborative Filtering',\n",
       "    'pub_year': '2021'},\n",
       "   'filled': False,\n",
       "   'author_pub_id': 'ra0qyRQAAAAJ:5nxA0vEk-isC',\n",
       "   'num_citations': 0},\n",
       "  {'container_type': 'Publication',\n",
       "   'source': <PublicationSource.AUTHOR_PUBLICATION_ENTRY: 'AUTHOR_PUBLICATION_ENTRY'>,\n",
       "   'bib': {'title': 'Training Data Generation Method Based on Metalearner and Causal Effect Heterogeneous Reaction difference Estimation Method',\n",
       "    'pub_year': '2021'},\n",
       "   'filled': False,\n",
       "   'author_pub_id': 'ra0qyRQAAAAJ:0EnyYjriUFMC',\n",
       "   'num_citations': 0},\n",
       "  {'container_type': 'Publication',\n",
       "   'source': <PublicationSource.AUTHOR_PUBLICATION_ENTRY: 'AUTHOR_PUBLICATION_ENTRY'>,\n",
       "   'bib': {'title': 'Meta-Learned User Preference for Topic Participation Prediction',\n",
       "    'pub_year': '2020'},\n",
       "   'filled': False,\n",
       "   'author_pub_id': 'ra0qyRQAAAAJ:W7OEmFMy1HYC',\n",
       "   'num_citations': 0,\n",
       "   'public_access': True}],\n",
       " 'public_access': {'available': 6, 'not_available': 0}}"
      ]
     },
     "execution_count": 59,
     "metadata": {},
     "output_type": "execute_result"
    }
   ],
   "source": [
    "data"
   ]
  },
  {
   "cell_type": "code",
   "execution_count": 61,
   "id": "ff175f8f-0812-45d4-8e3a-a5b283021395",
   "metadata": {},
   "outputs": [
    {
     "data": {
      "text/plain": [
       "'A Survey of Information Cascade Analysis: Models, Predictions, and Recent Advances'"
      ]
     },
     "execution_count": 61,
     "metadata": {},
     "output_type": "execute_result"
    }
   ],
   "source": [
    "data['publications'][0]['bib']['title']"
   ]
  },
  {
   "cell_type": "code",
   "execution_count": 63,
   "id": "da9bf724-33ea-485a-b1da-aa4beafe2291",
   "metadata": {},
   "outputs": [],
   "source": [
    "pub_query = scholarly.search_pubs(data['publications'][0]['bib']['title'])"
   ]
  },
  {
   "cell_type": "code",
   "execution_count": 65,
   "id": "73314faa-40d5-406d-90c3-84d5d7db47e1",
   "metadata": {},
   "outputs": [
    {
     "data": {
      "text/plain": [
       "{'container_type': 'Publication',\n",
       " 'source': <PublicationSource.PUBLICATION_SEARCH_SNIPPET: 'PUBLICATION_SEARCH_SNIPPET'>,\n",
       " 'bib': {'title': 'A survey of information cascade analysis: Models, predictions, and recent advances',\n",
       "  'author': ['F Zhou', 'X Xu', 'G Trajcevski', 'K Zhang'],\n",
       "  'pub_year': '2021',\n",
       "  'venue': 'ACM Computing Surveys (CSUR)',\n",
       "  'abstract': 'The deluge of digital information in our daily life—from user-generated content, such as microblogs and scientific papers, to online business, such as viral marketing and advertising—offers unprecedented opportunities to explore and exploit the trajectories and structures of the evolution of information cascades. Abundant research efforts, both academic and industrial, have aimed to reach a better understanding of the mechanisms driving the spread of information and quantifying the outcome of information diffusion. This article presents a'},\n",
       " 'filled': False,\n",
       " 'gsrank': 1,\n",
       " 'pub_url': 'https://dl.acm.org/doi/abs/10.1145/3433000',\n",
       " 'author_id': ['Ihj2Rw8AAAAJ', 'ra0qyRQAAAAJ', 'Avus2kcAAAAJ', 'rnpemAoAAAAJ'],\n",
       " 'url_scholarbib': '/scholar?q=info:QnxYh-RMbwIJ:scholar.google.com/&output=cite&scirp=0&hl=en',\n",
       " 'url_add_sclib': '/citations?hl=en&xsrf=&continue=/scholar%3Fq%3DA%2BSurvey%2Bof%2BInformation%2BCascade%2BAnalysis:%2BModels,%2BPredictions,%2Band%2BRecent%2BAdvances%26hl%3Den%26as_sdt%3D0,33&citilm=1&update_op=library_add&info=QnxYh-RMbwIJ&ei=Or0iYtuWEY70yAT3tKSQBw&json=',\n",
       " 'num_citations': 39,\n",
       " 'citedby_url': '/scholar?cites=175443454897716290&as_sdt=5,33&sciodt=0,33&hl=en',\n",
       " 'url_related_articles': '/scholar?q=related:QnxYh-RMbwIJ:scholar.google.com/&scioq=A+Survey+of+Information+Cascade+Analysis:+Models,+Predictions,+and+Recent+Advances&hl=en&as_sdt=0,33',\n",
       " 'eprint_url': 'https://arxiv.org/pdf/2005.11041.pdf?ref=https://githubhelp.com'}"
      ]
     },
     "execution_count": 65,
     "metadata": {},
     "output_type": "execute_result"
    }
   ],
   "source": [
    "next(pub_query)"
   ]
  },
  {
   "cell_type": "code",
   "execution_count": 67,
   "id": "73041b46-f402-42b8-9987-6347144158ff",
   "metadata": {},
   "outputs": [],
   "source": [
    "all_pub_titles = [pub['bib']['title'] for pub in data['publications']]"
   ]
  },
  {
   "cell_type": "code",
   "execution_count": 68,
   "id": "ab9bc6df-7991-4d37-aefe-0dc727b6f618",
   "metadata": {},
   "outputs": [
    {
     "data": {
      "text/plain": [
       "['A Survey of Information Cascade Analysis: Models, Predictions, and Recent Advances',\n",
       " 'Variational Information Diffusion for Probabilistic Cascades Prediction',\n",
       " 'A Heterogeneous Dynamical Graph Neural Networks Approach to Quantify Scientific Impact',\n",
       " 'Continual Information Cascade Learning',\n",
       " 'Decoupling Representation and Regressor for Long-Tailed Information Cascade Prediction',\n",
       " 'Unsupervised User Identity Linkage via Graph Neural Networks',\n",
       " 'Contrastive Trajectory Learning for Tour Recommendation',\n",
       " 'CasFlow: Exploring Hierarchical Structures and Propagation Uncertainty for Cascade Prediction',\n",
       " 'Heterogeneous Dynamical Academic Network for Learning Scientific Impact Propagation',\n",
       " 'CCGL: Contrastive Cascade Graph Learning',\n",
       " 'HGENA: A Hyperbolic Graph Embedding Approach for Network Alignment',\n",
       " 'Vector-Quantized Autoencoder With Copula for Collaborative Filtering',\n",
       " 'Training Data Generation Method Based on Metalearner and Causal Effect Heterogeneous Reaction difference Estimation Method',\n",
       " 'Meta-Learned User Preference for Topic Participation Prediction']"
      ]
     },
     "execution_count": 68,
     "metadata": {},
     "output_type": "execute_result"
    }
   ],
   "source": [
    "all_pub_titles"
   ]
  },
  {
   "cell_type": "code",
   "execution_count": 85,
   "id": "99e60b81-693d-4576-aeb6-cc9dd6377e2f",
   "metadata": {},
   "outputs": [],
   "source": [
    "pub_query = scholarly.search_pubs('CCGL: Contrastive Cascade Graph Learning')\n",
    "ind_pub = next(pub_query)"
   ]
  },
  {
   "cell_type": "code",
   "execution_count": 86,
   "id": "401a194f-389b-4480-b0dc-0c6257996f3d",
   "metadata": {},
   "outputs": [
    {
     "data": {
      "text/plain": [
       "{'container_type': 'Publication',\n",
       " 'source': <PublicationSource.PUBLICATION_SEARCH_SNIPPET: 'PUBLICATION_SEARCH_SNIPPET'>,\n",
       " 'bib': {'title': 'CCGL: Contrastive Cascade Graph Learning',\n",
       "  'author': ['X Xu', 'F Zhou', 'K Zhang', 'S Liu'],\n",
       "  'pub_year': '2021',\n",
       "  'venue': 'arXiv preprint arXiv:2107.12576',\n",
       "  'abstract': 'Supervised learning, while prevalent for information cascade modeling, often requires abundant labeled data in training, and the trained model is not easy to generalize across tasks and datasets. Semi-supervised learning facilitates unlabeled data for cascade understanding in pre-training. It often learns fine-grained feature-level representations, which can easily result in overfitting for downstream tasks. Recently, contrastive self-supervised learning is designed to alleviate these two fundamental issues in linguistic and'},\n",
       " 'filled': False,\n",
       " 'gsrank': 1,\n",
       " 'pub_url': 'https://arxiv.org/abs/2107.12576',\n",
       " 'author_id': ['ra0qyRQAAAAJ', 'Ihj2Rw8AAAAJ', 'rnpemAoAAAAJ', 'Uhvt7OIAAAAJ'],\n",
       " 'url_scholarbib': '/scholar?q=info:N5FuV4KSi7IJ:scholar.google.com/&output=cite&scirp=0&hl=en',\n",
       " 'url_add_sclib': '/citations?hl=en&xsrf=&continue=/scholar%3Fq%3DCCGL:%2BContrastive%2BCascade%2BGraph%2BLearning%26hl%3Den%26as_sdt%3D0,33&citilm=1&update_op=library_add&info=N5FuV4KSi7IJ&ei=VsIiYs3oNoevyASblIn4CQ&json=',\n",
       " 'num_citations': 0,\n",
       " 'url_related_articles': '/scholar?q=related:N5FuV4KSi7IJ:scholar.google.com/&scioq=CCGL:+Contrastive+Cascade+Graph+Learning&hl=en&as_sdt=0,33',\n",
       " 'eprint_url': 'https://arxiv.org/pdf/2107.12576'}"
      ]
     },
     "execution_count": 86,
     "metadata": {},
     "output_type": "execute_result"
    }
   ],
   "source": [
    "ind_pub"
   ]
  },
  {
   "cell_type": "code",
   "execution_count": 82,
   "id": "dce74ec0-bf67-4fa1-9998-590a8f5fcae8",
   "metadata": {},
   "outputs": [],
   "source": [
    "my_publications = list()"
   ]
  },
  {
   "cell_type": "code",
   "execution_count": 81,
   "id": "830ca6d7-6032-4b71-a893-b3c1c6a9b85e",
   "metadata": {},
   "outputs": [
    {
     "ename": "SyntaxError",
     "evalue": "unexpected EOF while parsing (3283185721.py, line 2)",
     "output_type": "error",
     "traceback": [
      "\u001b[0;36m  Input \u001b[0;32mIn [81]\u001b[0;36m\u001b[0m\n\u001b[0;31m    \u001b[0m\n\u001b[0m    ^\u001b[0m\n\u001b[0;31mSyntaxError\u001b[0m\u001b[0;31m:\u001b[0m unexpected EOF while parsing\n"
     ]
    }
   ],
   "source": [
    "for title in all_pub_titles:\n",
    "    pub_query = scholarly.search_pubs('CCGL: Contrastive Cascade Graph Learning')\n",
    "    pub_info = next(pub_query)\n",
    "    pub_info['"
   ]
  },
  {
   "cell_type": "code",
   "execution_count": null,
   "id": "297d5ebc-4a52-40b1-8e4c-5656543da776",
   "metadata": {},
   "outputs": [],
   "source": []
  }
 ],
 "metadata": {
  "kernelspec": {
   "display_name": "Python 3 (ipykernel)",
   "language": "python",
   "name": "python3"
  },
  "language_info": {
   "codemirror_mode": {
    "name": "ipython",
    "version": 3
   },
   "file_extension": ".py",
   "mimetype": "text/x-python",
   "name": "python",
   "nbconvert_exporter": "python",
   "pygments_lexer": "ipython3",
   "version": "3.8.5"
  }
 },
 "nbformat": 4,
 "nbformat_minor": 5
}
